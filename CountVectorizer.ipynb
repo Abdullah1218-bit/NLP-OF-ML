{
 "cells": [
  {
   "cell_type": "code",
   "execution_count": 1,
   "id": "1d254ea1",
   "metadata": {},
   "outputs": [],
   "source": [
    "import pandas as pd\n",
    "import numpy as np\n",
    "import seaborn as sns\n",
    "import matplotlib.pyplot as plt\n",
    "import warnings\n",
    "warnings.filterwarnings('ignore')\n",
    "from sklearn.feature_extraction.text import CountVectorizer"
   ]
  },
  {
   "cell_type": "code",
   "execution_count": null,
   "id": "b212c191",
   "metadata": {},
   "outputs": [
    {
     "name": "stdout",
     "output_type": "stream",
     "text": [
      "Vocabulary ['burger is the' 'he likes pizza' 'is the best' 'pizza is the']\n",
      "BoW Matrix [[0 0 0 0]\n",
      " [1 0 1 0]\n",
      " [0 1 0 0]\n",
      " [0 0 1 1]]\n"
     ]
    }
   ],
   "source": [
    "documents=[\n",
    "    'i love burger ',\n",
    "    'burger is the best',\n",
    "    'he likes pizza',\n",
    "    'pizza is the best'\n",
    "]\n",
    "vectorizer=CountVectorizer(ngram_range=(3,3))\n",
    "X=vectorizer.fit_transform(documents)\n",
    "print('Vocabulary',vectorizer.get_feature_names_out())\n",
    "print('BoW Matrix',X.toarray())"
   ]
  }
 ],
 "metadata": {
  "kernelspec": {
   "display_name": "Base",
   "language": "python",
   "name": "python3"
  },
  "language_info": {
   "codemirror_mode": {
    "name": "ipython",
    "version": 3
   },
   "file_extension": ".py",
   "mimetype": "text/x-python",
   "name": "python",
   "nbconvert_exporter": "python",
   "pygments_lexer": "ipython3",
   "version": "3.12.0"
  }
 },
 "nbformat": 4,
 "nbformat_minor": 5
}
