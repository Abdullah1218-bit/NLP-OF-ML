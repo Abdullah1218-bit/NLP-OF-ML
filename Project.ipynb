{
 "cells": [
  {
   "cell_type": "code",
   "execution_count": 38,
   "id": "4399a7d9",
   "metadata": {},
   "outputs": [
    {
     "data": {
      "application/vnd.microsoft.datawrangler.viewer.v0+json": {
       "columns": [
        {
         "name": "index",
         "rawType": "int64",
         "type": "integer"
        },
        {
         "name": "text",
         "rawType": "object",
         "type": "string"
        },
        {
         "name": "emotions",
         "rawType": "object",
         "type": "string"
        }
       ],
       "ref": "e29cc45a-493f-4990-bacf-8ada86a376ad",
       "rows": [
        [
         "0",
         "i didnt feel humiliated",
         "sadness"
        ],
        [
         "1",
         "i can go from feeling so hopeless to so damned hopeful just from being around someone who cares and is awake",
         "sadness"
        ],
        [
         "2",
         "im grabbing a minute to post i feel greedy wrong",
         "anger"
        ],
        [
         "3",
         "i am ever feeling nostalgic about the fireplace i will know that it is still on the property",
         "love"
        ],
        [
         "4",
         "i am feeling grouchy",
         "anger"
        ],
        [
         "5",
         "ive been feeling a little burdened lately wasnt sure why that was",
         "sadness"
        ],
        [
         "6",
         "ive been taking or milligrams or times recommended amount and ive fallen asleep a lot faster but i also feel like so funny",
         "surprise"
        ],
        [
         "7",
         "i feel as confused about life as a teenager or as jaded as a year old man",
         "fear"
        ],
        [
         "8",
         "i have been with petronas for years i feel that petronas has performed well and made a huge profit",
         "joy"
        ],
        [
         "9",
         "i feel romantic too",
         "love"
        ],
        [
         "10",
         "i feel like i have to make the suffering i m seeing mean something",
         "sadness"
        ],
        [
         "11",
         "i do feel that running is a divine experience and that i can expect to have some type of spiritual encounter",
         "joy"
        ],
        [
         "12",
         "i think it s the easiest time of year to feel dissatisfied",
         "anger"
        ],
        [
         "13",
         "i feel low energy i m just thirsty",
         "sadness"
        ],
        [
         "14",
         "i have immense sympathy with the general point but as a possible proto writer trying to find time to write in the corners of life and with no sign of an agent let alone a publishing contract this feels a little precious",
         "joy"
        ],
        [
         "15",
         "i do not feel reassured anxiety is on each side",
         "joy"
        ],
        [
         "16",
         "i didnt really feel that embarrassed",
         "sadness"
        ],
        [
         "17",
         "i feel pretty pathetic most of the time",
         "sadness"
        ],
        [
         "18",
         "i started feeling sentimental about dolls i had as a child and so began a collection of vintage barbie dolls from the sixties",
         "sadness"
        ],
        [
         "19",
         "i now feel compromised and skeptical of the value of every unit of work i put in",
         "fear"
        ],
        [
         "20",
         "i feel irritated and rejected without anyone doing anything or saying anything",
         "anger"
        ],
        [
         "21",
         "i am feeling completely overwhelmed i have two strategies that help me to feel grounded pour my heart out in my journal in the form of a letter to god and then end with a list of five things i am most grateful for",
         "fear"
        ],
        [
         "22",
         "i have the feeling she was amused and delighted",
         "joy"
        ],
        [
         "23",
         "i was able to help chai lifeline with your support and encouragement is a great feeling and i am so glad you were able to help me",
         "joy"
        ],
        [
         "24",
         "i already feel like i fucked up though because i dont usually eat at all in the morning",
         "anger"
        ],
        [
         "25",
         "i still love my so and wish the best for him i can no longer tolerate the effect that bm has on our lives and the fact that is has turned my so into a bitter angry person who is not always particularly kind to the people around him when he is feeling stressed",
         "sadness"
        ],
        [
         "26",
         "i feel so inhibited in someone elses kitchen like im painting on someone elses picture",
         "sadness"
        ],
        [
         "27",
         "i become overwhelmed and feel defeated",
         "sadness"
        ],
        [
         "28",
         "i feel kinda appalled that she feels like she needs to explain in wide and lenghth her body measures etc pp",
         "anger"
        ],
        [
         "29",
         "i feel more superior dead chicken or grieving child",
         "joy"
        ],
        [
         "30",
         "i get giddy over feeling elegant in a perfectly fitted pencil skirt",
         "joy"
        ],
        [
         "31",
         "i remember feeling acutely distressed for a few days",
         "fear"
        ],
        [
         "32",
         "i have seen heard and read over the past couple of days i am left feeling impressed by more than a few companies",
         "surprise"
        ],
        [
         "33",
         "i climbed the hill feeling frustrated that id pretty much paced entirely wrong for this course and that a factor that has never ever hampered me had made such a dent in the day",
         "anger"
        ],
        [
         "34",
         "i can t imagine a real life scenario where i would be emotionally connected enough with someone to feel totally accepted and safe where it it morally acceptable for me to have close and prolonged physical contact and where sex won t be expected subsequently",
         "joy"
        ],
        [
         "35",
         "i am not sure what would make me feel content if anything",
         "joy"
        ],
        [
         "36",
         "i have been feeling the need to be creative",
         "joy"
        ],
        [
         "37",
         "i do however want you to know that if something someone is causing you to feel less then your splendid self step away from them",
         "joy"
        ],
        [
         "38",
         "i feel a bit rude writing to an elderly gentleman to ask for gifts because i feel a bit greedy but what is christmas about if not mild greed",
         "anger"
        ],
        [
         "39",
         "i need you i need someone i need to be protected and feel safe i am small now i find myself in a season of no words",
         "joy"
        ],
        [
         "40",
         "i plan to share my everyday life stories traveling adventures inspirations and handmade creations with you and hope you will also feel inspired",
         "joy"
        ],
        [
         "41",
         "i already have my christmas trees up i got two and am feeling festive which i m sure is spurring me to get started on this book",
         "joy"
        ],
        [
         "42",
         "ive worn it once on its own with a little concealer and for the days im feeling brave but dont want to be pale then its perfect",
         "joy"
        ],
        [
         "43",
         "i feel very strongly passionate about when some jerk off decides to poke and make fun of us",
         "joy"
        ],
        [
         "44",
         "i was feeling so discouraged we are already robbing peter to pay paul to get our cow this year but we cant afford to not get the cow this way",
         "sadness"
        ],
        [
         "45",
         "i was feeling listless from the need of new things something different",
         "sadness"
        ],
        [
         "46",
         "i lost my special mind but don t worry i m still sane i just wanted you to feel what i felt while reading this book i don t know how many times it was said that sam was special but i can guarantee you it was many more times than what i used in that paragraph did i tell you she was special",
         "joy"
        ],
        [
         "47",
         "i can t let go of that sad feeling that i want to be accepted here in this first home of mine",
         "love"
        ],
        [
         "48",
         "on a boat trip to denmark",
         "joy"
        ],
        [
         "49",
         "i stopped feeling cold and began feeling hot",
         "anger"
        ]
       ],
       "shape": {
        "columns": 2,
        "rows": 16000
       }
      },
      "text/html": [
       "<div>\n",
       "<style scoped>\n",
       "    .dataframe tbody tr th:only-of-type {\n",
       "        vertical-align: middle;\n",
       "    }\n",
       "\n",
       "    .dataframe tbody tr th {\n",
       "        vertical-align: top;\n",
       "    }\n",
       "\n",
       "    .dataframe thead th {\n",
       "        text-align: right;\n",
       "    }\n",
       "</style>\n",
       "<table border=\"1\" class=\"dataframe\">\n",
       "  <thead>\n",
       "    <tr style=\"text-align: right;\">\n",
       "      <th></th>\n",
       "      <th>text</th>\n",
       "      <th>emotions</th>\n",
       "    </tr>\n",
       "  </thead>\n",
       "  <tbody>\n",
       "    <tr>\n",
       "      <th>0</th>\n",
       "      <td>i didnt feel humiliated</td>\n",
       "      <td>sadness</td>\n",
       "    </tr>\n",
       "    <tr>\n",
       "      <th>1</th>\n",
       "      <td>i can go from feeling so hopeless to so damned...</td>\n",
       "      <td>sadness</td>\n",
       "    </tr>\n",
       "    <tr>\n",
       "      <th>2</th>\n",
       "      <td>im grabbing a minute to post i feel greedy wrong</td>\n",
       "      <td>anger</td>\n",
       "    </tr>\n",
       "    <tr>\n",
       "      <th>3</th>\n",
       "      <td>i am ever feeling nostalgic about the fireplac...</td>\n",
       "      <td>love</td>\n",
       "    </tr>\n",
       "    <tr>\n",
       "      <th>4</th>\n",
       "      <td>i am feeling grouchy</td>\n",
       "      <td>anger</td>\n",
       "    </tr>\n",
       "    <tr>\n",
       "      <th>...</th>\n",
       "      <td>...</td>\n",
       "      <td>...</td>\n",
       "    </tr>\n",
       "    <tr>\n",
       "      <th>15995</th>\n",
       "      <td>i just had a very brief time in the beanbag an...</td>\n",
       "      <td>sadness</td>\n",
       "    </tr>\n",
       "    <tr>\n",
       "      <th>15996</th>\n",
       "      <td>i am now turning and i feel pathetic that i am...</td>\n",
       "      <td>sadness</td>\n",
       "    </tr>\n",
       "    <tr>\n",
       "      <th>15997</th>\n",
       "      <td>i feel strong and good overall</td>\n",
       "      <td>joy</td>\n",
       "    </tr>\n",
       "    <tr>\n",
       "      <th>15998</th>\n",
       "      <td>i feel like this was such a rude comment and i...</td>\n",
       "      <td>anger</td>\n",
       "    </tr>\n",
       "    <tr>\n",
       "      <th>15999</th>\n",
       "      <td>i know a lot but i feel so stupid because i ca...</td>\n",
       "      <td>sadness</td>\n",
       "    </tr>\n",
       "  </tbody>\n",
       "</table>\n",
       "<p>16000 rows × 2 columns</p>\n",
       "</div>"
      ],
      "text/plain": [
       "                                                    text emotions\n",
       "0                                i didnt feel humiliated  sadness\n",
       "1      i can go from feeling so hopeless to so damned...  sadness\n",
       "2       im grabbing a minute to post i feel greedy wrong    anger\n",
       "3      i am ever feeling nostalgic about the fireplac...     love\n",
       "4                                   i am feeling grouchy    anger\n",
       "...                                                  ...      ...\n",
       "15995  i just had a very brief time in the beanbag an...  sadness\n",
       "15996  i am now turning and i feel pathetic that i am...  sadness\n",
       "15997                     i feel strong and good overall      joy\n",
       "15998  i feel like this was such a rude comment and i...    anger\n",
       "15999  i know a lot but i feel so stupid because i ca...  sadness\n",
       "\n",
       "[16000 rows x 2 columns]"
      ]
     },
     "execution_count": 38,
     "metadata": {},
     "output_type": "execute_result"
    }
   ],
   "source": [
    "import pandas as pd\n",
    "import numpy as np\n",
    "import seaborn as sns\n",
    "import matplotlib.pyplot as plt\n",
    "import warnings\n",
    "warnings.filterwarnings('ignore')\n",
    "df=pd.read_csv(r'G:\\NLP FOR ML\\train.txt',sep=';',header=None,names=['text','emotions'])\n",
    "df"
   ]
  },
  {
   "cell_type": "code",
   "execution_count": 39,
   "id": "92260188",
   "metadata": {},
   "outputs": [
    {
     "data": {
      "application/vnd.microsoft.datawrangler.viewer.v0+json": {
       "columns": [
        {
         "name": "index",
         "rawType": "object",
         "type": "string"
        },
        {
         "name": "0",
         "rawType": "int64",
         "type": "integer"
        }
       ],
       "ref": "db406fcf-10bd-485a-8c1a-2a26ccc8f08a",
       "rows": [
        [
         "text",
         "0"
        ],
        [
         "emotions",
         "0"
        ]
       ],
       "shape": {
        "columns": 1,
        "rows": 2
       }
      },
      "text/plain": [
       "text        0\n",
       "emotions    0\n",
       "dtype: int64"
      ]
     },
     "execution_count": 39,
     "metadata": {},
     "output_type": "execute_result"
    }
   ],
   "source": [
    "df.isnull().sum().sort_values(ascending=False)"
   ]
  },
  {
   "cell_type": "code",
   "execution_count": 40,
   "id": "c7797467",
   "metadata": {},
   "outputs": [
    {
     "data": {
      "text/plain": [
       "array(['sadness', 'anger', 'love', 'surprise', 'fear', 'joy'],\n",
       "      dtype=object)"
      ]
     },
     "execution_count": 40,
     "metadata": {},
     "output_type": "execute_result"
    }
   ],
   "source": [
    "df.emotions.unique()"
   ]
  },
  {
   "cell_type": "code",
   "execution_count": 41,
   "id": "583afe62",
   "metadata": {},
   "outputs": [
    {
     "data": {
      "application/vnd.microsoft.datawrangler.viewer.v0+json": {
       "columns": [
        {
         "name": "index",
         "rawType": "int64",
         "type": "integer"
        },
        {
         "name": "text",
         "rawType": "object",
         "type": "string"
        },
        {
         "name": "emotions",
         "rawType": "int64",
         "type": "integer"
        }
       ],
       "ref": "204dad98-9667-4062-b7b5-0a6edbade2bf",
       "rows": [
        [
         "0",
         "i didnt feel humiliated",
         "0"
        ],
        [
         "1",
         "i can go from feeling so hopeless to so damned hopeful just from being around someone who cares and is awake",
         "0"
        ],
        [
         "2",
         "im grabbing a minute to post i feel greedy wrong",
         "1"
        ],
        [
         "3",
         "i am ever feeling nostalgic about the fireplace i will know that it is still on the property",
         "2"
        ],
        [
         "4",
         "i am feeling grouchy",
         "1"
        ],
        [
         "5",
         "ive been feeling a little burdened lately wasnt sure why that was",
         "0"
        ],
        [
         "6",
         "ive been taking or milligrams or times recommended amount and ive fallen asleep a lot faster but i also feel like so funny",
         "3"
        ],
        [
         "7",
         "i feel as confused about life as a teenager or as jaded as a year old man",
         "4"
        ],
        [
         "8",
         "i have been with petronas for years i feel that petronas has performed well and made a huge profit",
         "5"
        ],
        [
         "9",
         "i feel romantic too",
         "2"
        ],
        [
         "10",
         "i feel like i have to make the suffering i m seeing mean something",
         "0"
        ],
        [
         "11",
         "i do feel that running is a divine experience and that i can expect to have some type of spiritual encounter",
         "5"
        ],
        [
         "12",
         "i think it s the easiest time of year to feel dissatisfied",
         "1"
        ],
        [
         "13",
         "i feel low energy i m just thirsty",
         "0"
        ],
        [
         "14",
         "i have immense sympathy with the general point but as a possible proto writer trying to find time to write in the corners of life and with no sign of an agent let alone a publishing contract this feels a little precious",
         "5"
        ],
        [
         "15",
         "i do not feel reassured anxiety is on each side",
         "5"
        ],
        [
         "16",
         "i didnt really feel that embarrassed",
         "0"
        ],
        [
         "17",
         "i feel pretty pathetic most of the time",
         "0"
        ],
        [
         "18",
         "i started feeling sentimental about dolls i had as a child and so began a collection of vintage barbie dolls from the sixties",
         "0"
        ],
        [
         "19",
         "i now feel compromised and skeptical of the value of every unit of work i put in",
         "4"
        ],
        [
         "20",
         "i feel irritated and rejected without anyone doing anything or saying anything",
         "1"
        ],
        [
         "21",
         "i am feeling completely overwhelmed i have two strategies that help me to feel grounded pour my heart out in my journal in the form of a letter to god and then end with a list of five things i am most grateful for",
         "4"
        ],
        [
         "22",
         "i have the feeling she was amused and delighted",
         "5"
        ],
        [
         "23",
         "i was able to help chai lifeline with your support and encouragement is a great feeling and i am so glad you were able to help me",
         "5"
        ],
        [
         "24",
         "i already feel like i fucked up though because i dont usually eat at all in the morning",
         "1"
        ],
        [
         "25",
         "i still love my so and wish the best for him i can no longer tolerate the effect that bm has on our lives and the fact that is has turned my so into a bitter angry person who is not always particularly kind to the people around him when he is feeling stressed",
         "0"
        ],
        [
         "26",
         "i feel so inhibited in someone elses kitchen like im painting on someone elses picture",
         "0"
        ],
        [
         "27",
         "i become overwhelmed and feel defeated",
         "0"
        ],
        [
         "28",
         "i feel kinda appalled that she feels like she needs to explain in wide and lenghth her body measures etc pp",
         "1"
        ],
        [
         "29",
         "i feel more superior dead chicken or grieving child",
         "5"
        ],
        [
         "30",
         "i get giddy over feeling elegant in a perfectly fitted pencil skirt",
         "5"
        ],
        [
         "31",
         "i remember feeling acutely distressed for a few days",
         "4"
        ],
        [
         "32",
         "i have seen heard and read over the past couple of days i am left feeling impressed by more than a few companies",
         "3"
        ],
        [
         "33",
         "i climbed the hill feeling frustrated that id pretty much paced entirely wrong for this course and that a factor that has never ever hampered me had made such a dent in the day",
         "1"
        ],
        [
         "34",
         "i can t imagine a real life scenario where i would be emotionally connected enough with someone to feel totally accepted and safe where it it morally acceptable for me to have close and prolonged physical contact and where sex won t be expected subsequently",
         "5"
        ],
        [
         "35",
         "i am not sure what would make me feel content if anything",
         "5"
        ],
        [
         "36",
         "i have been feeling the need to be creative",
         "5"
        ],
        [
         "37",
         "i do however want you to know that if something someone is causing you to feel less then your splendid self step away from them",
         "5"
        ],
        [
         "38",
         "i feel a bit rude writing to an elderly gentleman to ask for gifts because i feel a bit greedy but what is christmas about if not mild greed",
         "1"
        ],
        [
         "39",
         "i need you i need someone i need to be protected and feel safe i am small now i find myself in a season of no words",
         "5"
        ],
        [
         "40",
         "i plan to share my everyday life stories traveling adventures inspirations and handmade creations with you and hope you will also feel inspired",
         "5"
        ],
        [
         "41",
         "i already have my christmas trees up i got two and am feeling festive which i m sure is spurring me to get started on this book",
         "5"
        ],
        [
         "42",
         "ive worn it once on its own with a little concealer and for the days im feeling brave but dont want to be pale then its perfect",
         "5"
        ],
        [
         "43",
         "i feel very strongly passionate about when some jerk off decides to poke and make fun of us",
         "5"
        ],
        [
         "44",
         "i was feeling so discouraged we are already robbing peter to pay paul to get our cow this year but we cant afford to not get the cow this way",
         "0"
        ],
        [
         "45",
         "i was feeling listless from the need of new things something different",
         "0"
        ],
        [
         "46",
         "i lost my special mind but don t worry i m still sane i just wanted you to feel what i felt while reading this book i don t know how many times it was said that sam was special but i can guarantee you it was many more times than what i used in that paragraph did i tell you she was special",
         "5"
        ],
        [
         "47",
         "i can t let go of that sad feeling that i want to be accepted here in this first home of mine",
         "2"
        ],
        [
         "48",
         "on a boat trip to denmark",
         "5"
        ],
        [
         "49",
         "i stopped feeling cold and began feeling hot",
         "1"
        ]
       ],
       "shape": {
        "columns": 2,
        "rows": 16000
       }
      },
      "text/html": [
       "<div>\n",
       "<style scoped>\n",
       "    .dataframe tbody tr th:only-of-type {\n",
       "        vertical-align: middle;\n",
       "    }\n",
       "\n",
       "    .dataframe tbody tr th {\n",
       "        vertical-align: top;\n",
       "    }\n",
       "\n",
       "    .dataframe thead th {\n",
       "        text-align: right;\n",
       "    }\n",
       "</style>\n",
       "<table border=\"1\" class=\"dataframe\">\n",
       "  <thead>\n",
       "    <tr style=\"text-align: right;\">\n",
       "      <th></th>\n",
       "      <th>text</th>\n",
       "      <th>emotions</th>\n",
       "    </tr>\n",
       "  </thead>\n",
       "  <tbody>\n",
       "    <tr>\n",
       "      <th>0</th>\n",
       "      <td>i didnt feel humiliated</td>\n",
       "      <td>0</td>\n",
       "    </tr>\n",
       "    <tr>\n",
       "      <th>1</th>\n",
       "      <td>i can go from feeling so hopeless to so damned...</td>\n",
       "      <td>0</td>\n",
       "    </tr>\n",
       "    <tr>\n",
       "      <th>2</th>\n",
       "      <td>im grabbing a minute to post i feel greedy wrong</td>\n",
       "      <td>1</td>\n",
       "    </tr>\n",
       "    <tr>\n",
       "      <th>3</th>\n",
       "      <td>i am ever feeling nostalgic about the fireplac...</td>\n",
       "      <td>2</td>\n",
       "    </tr>\n",
       "    <tr>\n",
       "      <th>4</th>\n",
       "      <td>i am feeling grouchy</td>\n",
       "      <td>1</td>\n",
       "    </tr>\n",
       "    <tr>\n",
       "      <th>...</th>\n",
       "      <td>...</td>\n",
       "      <td>...</td>\n",
       "    </tr>\n",
       "    <tr>\n",
       "      <th>15995</th>\n",
       "      <td>i just had a very brief time in the beanbag an...</td>\n",
       "      <td>0</td>\n",
       "    </tr>\n",
       "    <tr>\n",
       "      <th>15996</th>\n",
       "      <td>i am now turning and i feel pathetic that i am...</td>\n",
       "      <td>0</td>\n",
       "    </tr>\n",
       "    <tr>\n",
       "      <th>15997</th>\n",
       "      <td>i feel strong and good overall</td>\n",
       "      <td>5</td>\n",
       "    </tr>\n",
       "    <tr>\n",
       "      <th>15998</th>\n",
       "      <td>i feel like this was such a rude comment and i...</td>\n",
       "      <td>1</td>\n",
       "    </tr>\n",
       "    <tr>\n",
       "      <th>15999</th>\n",
       "      <td>i know a lot but i feel so stupid because i ca...</td>\n",
       "      <td>0</td>\n",
       "    </tr>\n",
       "  </tbody>\n",
       "</table>\n",
       "<p>16000 rows × 2 columns</p>\n",
       "</div>"
      ],
      "text/plain": [
       "                                                    text  emotions\n",
       "0                                i didnt feel humiliated         0\n",
       "1      i can go from feeling so hopeless to so damned...         0\n",
       "2       im grabbing a minute to post i feel greedy wrong         1\n",
       "3      i am ever feeling nostalgic about the fireplac...         2\n",
       "4                                   i am feeling grouchy         1\n",
       "...                                                  ...       ...\n",
       "15995  i just had a very brief time in the beanbag an...         0\n",
       "15996  i am now turning and i feel pathetic that i am...         0\n",
       "15997                     i feel strong and good overall         5\n",
       "15998  i feel like this was such a rude comment and i...         1\n",
       "15999  i know a lot but i feel so stupid because i ca...         0\n",
       "\n",
       "[16000 rows x 2 columns]"
      ]
     },
     "execution_count": 41,
     "metadata": {},
     "output_type": "execute_result"
    }
   ],
   "source": [
    "df['emotions'], emotions_numbers = pd.factorize(df['emotions'])\n",
    "df"
   ]
  },
  {
   "cell_type": "code",
   "execution_count": 42,
   "id": "842e32ad",
   "metadata": {},
   "outputs": [
    {
     "data": {
      "application/vnd.microsoft.datawrangler.viewer.v0+json": {
       "columns": [
        {
         "name": "index",
         "rawType": "int64",
         "type": "integer"
        },
        {
         "name": "text",
         "rawType": "object",
         "type": "string"
        },
        {
         "name": "emotions",
         "rawType": "int64",
         "type": "integer"
        }
       ],
       "ref": "c92d3e84-c658-4f31-bb30-3caeb9a130f2",
       "rows": [
        [
         "0",
         "i didnt feel humiliated",
         "0"
        ],
        [
         "1",
         "i can go from feeling so hopeless to so damned hopeful just from being around someone who cares and is awake",
         "0"
        ],
        [
         "2",
         "im grabbing a minute to post i feel greedy wrong",
         "1"
        ],
        [
         "3",
         "i am ever feeling nostalgic about the fireplace i will know that it is still on the property",
         "2"
        ],
        [
         "4",
         "i am feeling grouchy",
         "1"
        ],
        [
         "5",
         "ive been feeling a little burdened lately wasnt sure why that was",
         "0"
        ],
        [
         "6",
         "ive been taking or milligrams or times recommended amount and ive fallen asleep a lot faster but i also feel like so funny",
         "3"
        ],
        [
         "7",
         "i feel as confused about life as a teenager or as jaded as a year old man",
         "4"
        ],
        [
         "8",
         "i have been with petronas for years i feel that petronas has performed well and made a huge profit",
         "5"
        ],
        [
         "9",
         "i feel romantic too",
         "2"
        ],
        [
         "10",
         "i feel like i have to make the suffering i m seeing mean something",
         "0"
        ],
        [
         "11",
         "i do feel that running is a divine experience and that i can expect to have some type of spiritual encounter",
         "5"
        ],
        [
         "12",
         "i think it s the easiest time of year to feel dissatisfied",
         "1"
        ],
        [
         "13",
         "i feel low energy i m just thirsty",
         "0"
        ],
        [
         "14",
         "i have immense sympathy with the general point but as a possible proto writer trying to find time to write in the corners of life and with no sign of an agent let alone a publishing contract this feels a little precious",
         "5"
        ],
        [
         "15",
         "i do not feel reassured anxiety is on each side",
         "5"
        ],
        [
         "16",
         "i didnt really feel that embarrassed",
         "0"
        ],
        [
         "17",
         "i feel pretty pathetic most of the time",
         "0"
        ],
        [
         "18",
         "i started feeling sentimental about dolls i had as a child and so began a collection of vintage barbie dolls from the sixties",
         "0"
        ],
        [
         "19",
         "i now feel compromised and skeptical of the value of every unit of work i put in",
         "4"
        ],
        [
         "20",
         "i feel irritated and rejected without anyone doing anything or saying anything",
         "1"
        ],
        [
         "21",
         "i am feeling completely overwhelmed i have two strategies that help me to feel grounded pour my heart out in my journal in the form of a letter to god and then end with a list of five things i am most grateful for",
         "4"
        ],
        [
         "22",
         "i have the feeling she was amused and delighted",
         "5"
        ],
        [
         "23",
         "i was able to help chai lifeline with your support and encouragement is a great feeling and i am so glad you were able to help me",
         "5"
        ],
        [
         "24",
         "i already feel like i fucked up though because i dont usually eat at all in the morning",
         "1"
        ],
        [
         "25",
         "i still love my so and wish the best for him i can no longer tolerate the effect that bm has on our lives and the fact that is has turned my so into a bitter angry person who is not always particularly kind to the people around him when he is feeling stressed",
         "0"
        ],
        [
         "26",
         "i feel so inhibited in someone elses kitchen like im painting on someone elses picture",
         "0"
        ],
        [
         "27",
         "i become overwhelmed and feel defeated",
         "0"
        ],
        [
         "28",
         "i feel kinda appalled that she feels like she needs to explain in wide and lenghth her body measures etc pp",
         "1"
        ],
        [
         "29",
         "i feel more superior dead chicken or grieving child",
         "5"
        ],
        [
         "30",
         "i get giddy over feeling elegant in a perfectly fitted pencil skirt",
         "5"
        ],
        [
         "31",
         "i remember feeling acutely distressed for a few days",
         "4"
        ],
        [
         "32",
         "i have seen heard and read over the past couple of days i am left feeling impressed by more than a few companies",
         "3"
        ],
        [
         "33",
         "i climbed the hill feeling frustrated that id pretty much paced entirely wrong for this course and that a factor that has never ever hampered me had made such a dent in the day",
         "1"
        ],
        [
         "34",
         "i can t imagine a real life scenario where i would be emotionally connected enough with someone to feel totally accepted and safe where it it morally acceptable for me to have close and prolonged physical contact and where sex won t be expected subsequently",
         "5"
        ],
        [
         "35",
         "i am not sure what would make me feel content if anything",
         "5"
        ],
        [
         "36",
         "i have been feeling the need to be creative",
         "5"
        ],
        [
         "37",
         "i do however want you to know that if something someone is causing you to feel less then your splendid self step away from them",
         "5"
        ],
        [
         "38",
         "i feel a bit rude writing to an elderly gentleman to ask for gifts because i feel a bit greedy but what is christmas about if not mild greed",
         "1"
        ],
        [
         "39",
         "i need you i need someone i need to be protected and feel safe i am small now i find myself in a season of no words",
         "5"
        ],
        [
         "40",
         "i plan to share my everyday life stories traveling adventures inspirations and handmade creations with you and hope you will also feel inspired",
         "5"
        ],
        [
         "41",
         "i already have my christmas trees up i got two and am feeling festive which i m sure is spurring me to get started on this book",
         "5"
        ],
        [
         "42",
         "ive worn it once on its own with a little concealer and for the days im feeling brave but dont want to be pale then its perfect",
         "5"
        ],
        [
         "43",
         "i feel very strongly passionate about when some jerk off decides to poke and make fun of us",
         "5"
        ],
        [
         "44",
         "i was feeling so discouraged we are already robbing peter to pay paul to get our cow this year but we cant afford to not get the cow this way",
         "0"
        ],
        [
         "45",
         "i was feeling listless from the need of new things something different",
         "0"
        ],
        [
         "46",
         "i lost my special mind but don t worry i m still sane i just wanted you to feel what i felt while reading this book i don t know how many times it was said that sam was special but i can guarantee you it was many more times than what i used in that paragraph did i tell you she was special",
         "5"
        ],
        [
         "47",
         "i can t let go of that sad feeling that i want to be accepted here in this first home of mine",
         "2"
        ],
        [
         "48",
         "on a boat trip to denmark",
         "5"
        ],
        [
         "49",
         "i stopped feeling cold and began feeling hot",
         "1"
        ]
       ],
       "shape": {
        "columns": 2,
        "rows": 16000
       }
      },
      "text/html": [
       "<div>\n",
       "<style scoped>\n",
       "    .dataframe tbody tr th:only-of-type {\n",
       "        vertical-align: middle;\n",
       "    }\n",
       "\n",
       "    .dataframe tbody tr th {\n",
       "        vertical-align: top;\n",
       "    }\n",
       "\n",
       "    .dataframe thead th {\n",
       "        text-align: right;\n",
       "    }\n",
       "</style>\n",
       "<table border=\"1\" class=\"dataframe\">\n",
       "  <thead>\n",
       "    <tr style=\"text-align: right;\">\n",
       "      <th></th>\n",
       "      <th>text</th>\n",
       "      <th>emotions</th>\n",
       "    </tr>\n",
       "  </thead>\n",
       "  <tbody>\n",
       "    <tr>\n",
       "      <th>0</th>\n",
       "      <td>i didnt feel humiliated</td>\n",
       "      <td>0</td>\n",
       "    </tr>\n",
       "    <tr>\n",
       "      <th>1</th>\n",
       "      <td>i can go from feeling so hopeless to so damned...</td>\n",
       "      <td>0</td>\n",
       "    </tr>\n",
       "    <tr>\n",
       "      <th>2</th>\n",
       "      <td>im grabbing a minute to post i feel greedy wrong</td>\n",
       "      <td>1</td>\n",
       "    </tr>\n",
       "    <tr>\n",
       "      <th>3</th>\n",
       "      <td>i am ever feeling nostalgic about the fireplac...</td>\n",
       "      <td>2</td>\n",
       "    </tr>\n",
       "    <tr>\n",
       "      <th>4</th>\n",
       "      <td>i am feeling grouchy</td>\n",
       "      <td>1</td>\n",
       "    </tr>\n",
       "    <tr>\n",
       "      <th>...</th>\n",
       "      <td>...</td>\n",
       "      <td>...</td>\n",
       "    </tr>\n",
       "    <tr>\n",
       "      <th>15995</th>\n",
       "      <td>i just had a very brief time in the beanbag an...</td>\n",
       "      <td>0</td>\n",
       "    </tr>\n",
       "    <tr>\n",
       "      <th>15996</th>\n",
       "      <td>i am now turning and i feel pathetic that i am...</td>\n",
       "      <td>0</td>\n",
       "    </tr>\n",
       "    <tr>\n",
       "      <th>15997</th>\n",
       "      <td>i feel strong and good overall</td>\n",
       "      <td>5</td>\n",
       "    </tr>\n",
       "    <tr>\n",
       "      <th>15998</th>\n",
       "      <td>i feel like this was such a rude comment and i...</td>\n",
       "      <td>1</td>\n",
       "    </tr>\n",
       "    <tr>\n",
       "      <th>15999</th>\n",
       "      <td>i know a lot but i feel so stupid because i ca...</td>\n",
       "      <td>0</td>\n",
       "    </tr>\n",
       "  </tbody>\n",
       "</table>\n",
       "<p>16000 rows × 2 columns</p>\n",
       "</div>"
      ],
      "text/plain": [
       "                                                    text  emotions\n",
       "0                                i didnt feel humiliated         0\n",
       "1      i can go from feeling so hopeless to so damned...         0\n",
       "2       im grabbing a minute to post i feel greedy wrong         1\n",
       "3      i am ever feeling nostalgic about the fireplac...         2\n",
       "4                                   i am feeling grouchy         1\n",
       "...                                                  ...       ...\n",
       "15995  i just had a very brief time in the beanbag an...         0\n",
       "15996  i am now turning and i feel pathetic that i am...         0\n",
       "15997                     i feel strong and good overall         5\n",
       "15998  i feel like this was such a rude comment and i...         1\n",
       "15999  i know a lot but i feel so stupid because i ca...         0\n",
       "\n",
       "[16000 rows x 2 columns]"
      ]
     },
     "execution_count": 42,
     "metadata": {},
     "output_type": "execute_result"
    }
   ],
   "source": [
    "from cleantext import clean\n",
    "# Apply cleaning to entire 'text' column\n",
    "df['text'] = df['text'].apply(lambda x: clean(\n",
    "    x,\n",
    "    no_punct=True,     # Remove punctuation/symbols\n",
    "    no_digits=True,    # Remove numbers\n",
    "    lower=True,         # Convert to lowercase\n",
    "    no_urls=True,\n",
    "    no_emoji=True\n",
    "))\n",
    "\n",
    "df"
   ]
  },
  {
   "cell_type": "code",
   "execution_count": 43,
   "id": "5bdfd08e",
   "metadata": {},
   "outputs": [],
   "source": [
    "from nltk.corpus import *\n",
    "from nltk.tokenize import *"
   ]
  },
  {
   "cell_type": "code",
   "execution_count": 44,
   "id": "c597a0e6",
   "metadata": {},
   "outputs": [
    {
     "data": {
      "text/plain": [
       "{'a',\n",
       " 'about',\n",
       " 'above',\n",
       " 'after',\n",
       " 'again',\n",
       " 'against',\n",
       " 'ain',\n",
       " 'all',\n",
       " 'am',\n",
       " 'an',\n",
       " 'and',\n",
       " 'any',\n",
       " 'are',\n",
       " 'aren',\n",
       " \"aren't\",\n",
       " 'as',\n",
       " 'at',\n",
       " 'be',\n",
       " 'because',\n",
       " 'been',\n",
       " 'before',\n",
       " 'being',\n",
       " 'below',\n",
       " 'between',\n",
       " 'both',\n",
       " 'but',\n",
       " 'by',\n",
       " 'can',\n",
       " 'couldn',\n",
       " \"couldn't\",\n",
       " 'd',\n",
       " 'did',\n",
       " 'didn',\n",
       " \"didn't\",\n",
       " 'do',\n",
       " 'does',\n",
       " 'doesn',\n",
       " \"doesn't\",\n",
       " 'doing',\n",
       " 'don',\n",
       " \"don't\",\n",
       " 'down',\n",
       " 'during',\n",
       " 'each',\n",
       " 'few',\n",
       " 'for',\n",
       " 'from',\n",
       " 'further',\n",
       " 'had',\n",
       " 'hadn',\n",
       " \"hadn't\",\n",
       " 'has',\n",
       " 'hasn',\n",
       " \"hasn't\",\n",
       " 'have',\n",
       " 'haven',\n",
       " \"haven't\",\n",
       " 'having',\n",
       " 'he',\n",
       " \"he'd\",\n",
       " \"he'll\",\n",
       " \"he's\",\n",
       " 'her',\n",
       " 'here',\n",
       " 'hers',\n",
       " 'herself',\n",
       " 'him',\n",
       " 'himself',\n",
       " 'his',\n",
       " 'how',\n",
       " 'i',\n",
       " \"i'd\",\n",
       " \"i'll\",\n",
       " \"i'm\",\n",
       " \"i've\",\n",
       " 'if',\n",
       " 'in',\n",
       " 'into',\n",
       " 'is',\n",
       " 'isn',\n",
       " \"isn't\",\n",
       " 'it',\n",
       " \"it'd\",\n",
       " \"it'll\",\n",
       " \"it's\",\n",
       " 'its',\n",
       " 'itself',\n",
       " 'just',\n",
       " 'll',\n",
       " 'm',\n",
       " 'ma',\n",
       " 'me',\n",
       " 'mightn',\n",
       " \"mightn't\",\n",
       " 'more',\n",
       " 'most',\n",
       " 'mustn',\n",
       " \"mustn't\",\n",
       " 'my',\n",
       " 'myself',\n",
       " 'needn',\n",
       " \"needn't\",\n",
       " 'no',\n",
       " 'nor',\n",
       " 'not',\n",
       " 'now',\n",
       " 'o',\n",
       " 'of',\n",
       " 'off',\n",
       " 'on',\n",
       " 'once',\n",
       " 'only',\n",
       " 'or',\n",
       " 'other',\n",
       " 'our',\n",
       " 'ours',\n",
       " 'ourselves',\n",
       " 'out',\n",
       " 'over',\n",
       " 'own',\n",
       " 're',\n",
       " 's',\n",
       " 'same',\n",
       " 'shan',\n",
       " \"shan't\",\n",
       " 'she',\n",
       " \"she'd\",\n",
       " \"she'll\",\n",
       " \"she's\",\n",
       " 'should',\n",
       " \"should've\",\n",
       " 'shouldn',\n",
       " \"shouldn't\",\n",
       " 'so',\n",
       " 'some',\n",
       " 'such',\n",
       " 't',\n",
       " 'than',\n",
       " 'that',\n",
       " \"that'll\",\n",
       " 'the',\n",
       " 'their',\n",
       " 'theirs',\n",
       " 'them',\n",
       " 'themselves',\n",
       " 'then',\n",
       " 'there',\n",
       " 'these',\n",
       " 'they',\n",
       " \"they'd\",\n",
       " \"they'll\",\n",
       " \"they're\",\n",
       " \"they've\",\n",
       " 'this',\n",
       " 'those',\n",
       " 'through',\n",
       " 'to',\n",
       " 'too',\n",
       " 'under',\n",
       " 'until',\n",
       " 'up',\n",
       " 've',\n",
       " 'very',\n",
       " 'was',\n",
       " 'wasn',\n",
       " \"wasn't\",\n",
       " 'we',\n",
       " \"we'd\",\n",
       " \"we'll\",\n",
       " \"we're\",\n",
       " \"we've\",\n",
       " 'were',\n",
       " 'weren',\n",
       " \"weren't\",\n",
       " 'what',\n",
       " 'when',\n",
       " 'where',\n",
       " 'which',\n",
       " 'while',\n",
       " 'who',\n",
       " 'whom',\n",
       " 'why',\n",
       " 'will',\n",
       " 'with',\n",
       " 'won',\n",
       " \"won't\",\n",
       " 'wouldn',\n",
       " \"wouldn't\",\n",
       " 'y',\n",
       " 'you',\n",
       " \"you'd\",\n",
       " \"you'll\",\n",
       " \"you're\",\n",
       " \"you've\",\n",
       " 'your',\n",
       " 'yours',\n",
       " 'yourself',\n",
       " 'yourselves'}"
      ]
     },
     "execution_count": 44,
     "metadata": {},
     "output_type": "execute_result"
    }
   ],
   "source": [
    "stop_words=set(stopwords.words('english'))\n",
    "stop_words"
   ]
  },
  {
   "cell_type": "code",
   "execution_count": 45,
   "id": "6aa8f3f5",
   "metadata": {},
   "outputs": [],
   "source": [
    "# Apply directly using lambda\n",
    "df['text'] = df['text'].apply(\n",
    "    lambda x: ' '.join([word for word in word_tokenize(x) if word not in stop_words])\n",
    ")"
   ]
  },
  {
   "cell_type": "code",
   "execution_count": 46,
   "id": "502d2d16",
   "metadata": {},
   "outputs": [
    {
     "data": {
      "application/vnd.microsoft.datawrangler.viewer.v0+json": {
       "columns": [
        {
         "name": "index",
         "rawType": "int64",
         "type": "integer"
        },
        {
         "name": "text",
         "rawType": "object",
         "type": "string"
        },
        {
         "name": "emotions",
         "rawType": "int64",
         "type": "integer"
        }
       ],
       "ref": "9279fb6e-3acc-4152-8ef2-efc733a7f47b",
       "rows": [
        [
         "0",
         "didnt feel humiliated",
         "0"
        ],
        [
         "1",
         "go feeling hopeless damned hopeful around someone cares awake",
         "0"
        ],
        [
         "2",
         "im grabbing minute post feel greedy wrong",
         "1"
        ],
        [
         "3",
         "ever feeling nostalgic fireplace know still property",
         "2"
        ],
        [
         "4",
         "feeling grouchy",
         "1"
        ],
        [
         "5",
         "ive feeling little burdened lately wasnt sure",
         "0"
        ],
        [
         "6",
         "ive taking milligrams times recommended amount ive fallen asleep lot faster also feel like funny",
         "3"
        ],
        [
         "7",
         "feel confused life teenager jaded year old man",
         "4"
        ],
        [
         "8",
         "petronas years feel petronas performed well made huge profit",
         "5"
        ],
        [
         "9",
         "feel romantic",
         "2"
        ],
        [
         "10",
         "feel like make suffering seeing mean something",
         "0"
        ],
        [
         "11",
         "feel running divine experience expect type spiritual encounter",
         "5"
        ],
        [
         "12",
         "think easiest time year feel dissatisfied",
         "1"
        ],
        [
         "13",
         "feel low energy thirsty",
         "0"
        ],
        [
         "14",
         "immense sympathy general point possible proto writer trying find time write corners life sign agent let alone publishing contract feels little precious",
         "5"
        ],
        [
         "15",
         "feel reassured anxiety side",
         "5"
        ],
        [
         "16",
         "didnt really feel embarrassed",
         "0"
        ],
        [
         "17",
         "feel pretty pathetic time",
         "0"
        ],
        [
         "18",
         "started feeling sentimental dolls child began collection vintage barbie dolls sixties",
         "0"
        ],
        [
         "19",
         "feel compromised skeptical value every unit work put",
         "4"
        ],
        [
         "20",
         "feel irritated rejected without anyone anything saying anything",
         "1"
        ],
        [
         "21",
         "feeling completely overwhelmed two strategies help feel grounded pour heart journal form letter god end list five things grateful",
         "4"
        ],
        [
         "22",
         "feeling amused delighted",
         "5"
        ],
        [
         "23",
         "able help chai lifeline support encouragement great feeling glad able help",
         "5"
        ],
        [
         "24",
         "already feel like fucked though dont usually eat morning",
         "1"
        ],
        [
         "25",
         "still love wish best longer tolerate effect bm lives fact turned bitter angry person always particularly kind people around feeling stressed",
         "0"
        ],
        [
         "26",
         "feel inhibited someone elses kitchen like im painting someone elses picture",
         "0"
        ],
        [
         "27",
         "become overwhelmed feel defeated",
         "0"
        ],
        [
         "28",
         "feel kinda appalled feels like needs explain wide lenghth body measures etc pp",
         "1"
        ],
        [
         "29",
         "feel superior dead chicken grieving child",
         "5"
        ],
        [
         "30",
         "get giddy feeling elegant perfectly fitted pencil skirt",
         "5"
        ],
        [
         "31",
         "remember feeling acutely distressed days",
         "4"
        ],
        [
         "32",
         "seen heard read past couple days left feeling impressed companies",
         "3"
        ],
        [
         "33",
         "climbed hill feeling frustrated id pretty much paced entirely wrong course factor never ever hampered made dent day",
         "1"
        ],
        [
         "34",
         "imagine real life scenario would emotionally connected enough someone feel totally accepted safe morally acceptable close prolonged physical contact sex expected subsequently",
         "5"
        ],
        [
         "35",
         "sure would make feel content anything",
         "5"
        ],
        [
         "36",
         "feeling need creative",
         "5"
        ],
        [
         "37",
         "however want know something someone causing feel less splendid self step away",
         "5"
        ],
        [
         "38",
         "feel bit rude writing elderly gentleman ask gifts feel bit greedy christmas mild greed",
         "1"
        ],
        [
         "39",
         "need need someone need protected feel safe small find season words",
         "5"
        ],
        [
         "40",
         "plan share everyday life stories traveling adventures inspirations handmade creations hope also feel inspired",
         "5"
        ],
        [
         "41",
         "already christmas trees got two feeling festive sure spurring get started book",
         "5"
        ],
        [
         "42",
         "ive worn little concealer days im feeling brave dont want pale perfect",
         "5"
        ],
        [
         "43",
         "feel strongly passionate jerk decides poke make fun us",
         "5"
        ],
        [
         "44",
         "feeling discouraged already robbing peter pay paul get cow year cant afford get cow way",
         "0"
        ],
        [
         "45",
         "feeling listless need new things something different",
         "0"
        ],
        [
         "46",
         "lost special mind worry still sane wanted feel felt reading book know many times said sam special guarantee many times used paragraph tell special",
         "5"
        ],
        [
         "47",
         "let go sad feeling want accepted first home mine",
         "2"
        ],
        [
         "48",
         "boat trip denmark",
         "5"
        ],
        [
         "49",
         "stopped feeling cold began feeling hot",
         "1"
        ]
       ],
       "shape": {
        "columns": 2,
        "rows": 16000
       }
      },
      "text/html": [
       "<div>\n",
       "<style scoped>\n",
       "    .dataframe tbody tr th:only-of-type {\n",
       "        vertical-align: middle;\n",
       "    }\n",
       "\n",
       "    .dataframe tbody tr th {\n",
       "        vertical-align: top;\n",
       "    }\n",
       "\n",
       "    .dataframe thead th {\n",
       "        text-align: right;\n",
       "    }\n",
       "</style>\n",
       "<table border=\"1\" class=\"dataframe\">\n",
       "  <thead>\n",
       "    <tr style=\"text-align: right;\">\n",
       "      <th></th>\n",
       "      <th>text</th>\n",
       "      <th>emotions</th>\n",
       "    </tr>\n",
       "  </thead>\n",
       "  <tbody>\n",
       "    <tr>\n",
       "      <th>0</th>\n",
       "      <td>didnt feel humiliated</td>\n",
       "      <td>0</td>\n",
       "    </tr>\n",
       "    <tr>\n",
       "      <th>1</th>\n",
       "      <td>go feeling hopeless damned hopeful around some...</td>\n",
       "      <td>0</td>\n",
       "    </tr>\n",
       "    <tr>\n",
       "      <th>2</th>\n",
       "      <td>im grabbing minute post feel greedy wrong</td>\n",
       "      <td>1</td>\n",
       "    </tr>\n",
       "    <tr>\n",
       "      <th>3</th>\n",
       "      <td>ever feeling nostalgic fireplace know still pr...</td>\n",
       "      <td>2</td>\n",
       "    </tr>\n",
       "    <tr>\n",
       "      <th>4</th>\n",
       "      <td>feeling grouchy</td>\n",
       "      <td>1</td>\n",
       "    </tr>\n",
       "    <tr>\n",
       "      <th>...</th>\n",
       "      <td>...</td>\n",
       "      <td>...</td>\n",
       "    </tr>\n",
       "    <tr>\n",
       "      <th>15995</th>\n",
       "      <td>brief time beanbag said anna feel like beaten</td>\n",
       "      <td>0</td>\n",
       "    </tr>\n",
       "    <tr>\n",
       "      <th>15996</th>\n",
       "      <td>turning feel pathetic still waiting tables sub...</td>\n",
       "      <td>0</td>\n",
       "    </tr>\n",
       "    <tr>\n",
       "      <th>15997</th>\n",
       "      <td>feel strong good overall</td>\n",
       "      <td>5</td>\n",
       "    </tr>\n",
       "    <tr>\n",
       "      <th>15998</th>\n",
       "      <td>feel like rude comment im glad</td>\n",
       "      <td>1</td>\n",
       "    </tr>\n",
       "    <tr>\n",
       "      <th>15999</th>\n",
       "      <td>know lot feel stupid portray</td>\n",
       "      <td>0</td>\n",
       "    </tr>\n",
       "  </tbody>\n",
       "</table>\n",
       "<p>16000 rows × 2 columns</p>\n",
       "</div>"
      ],
      "text/plain": [
       "                                                    text  emotions\n",
       "0                                  didnt feel humiliated         0\n",
       "1      go feeling hopeless damned hopeful around some...         0\n",
       "2              im grabbing minute post feel greedy wrong         1\n",
       "3      ever feeling nostalgic fireplace know still pr...         2\n",
       "4                                        feeling grouchy         1\n",
       "...                                                  ...       ...\n",
       "15995      brief time beanbag said anna feel like beaten         0\n",
       "15996  turning feel pathetic still waiting tables sub...         0\n",
       "15997                           feel strong good overall         5\n",
       "15998                     feel like rude comment im glad         1\n",
       "15999                       know lot feel stupid portray         0\n",
       "\n",
       "[16000 rows x 2 columns]"
      ]
     },
     "execution_count": 46,
     "metadata": {},
     "output_type": "execute_result"
    }
   ],
   "source": [
    "df"
   ]
  },
  {
   "cell_type": "code",
   "execution_count": 47,
   "id": "49d6ca96",
   "metadata": {},
   "outputs": [],
   "source": [
    "from sklearn.model_selection import train_test_split\n",
    "\n",
    "X=df['text']\n",
    "y=df['emotions']\n",
    "\n",
    "X_train,X_test,y_train,y_test=train_test_split(X,y,test_size=0.2,random_state=42)"
   ]
  },
  {
   "cell_type": "code",
   "execution_count": 48,
   "id": "db6ef13e",
   "metadata": {},
   "outputs": [
    {
     "data": {
      "text/plain": [
       "(16000, 2)"
      ]
     },
     "execution_count": 48,
     "metadata": {},
     "output_type": "execute_result"
    }
   ],
   "source": [
    "df.shape"
   ]
  },
  {
   "cell_type": "code",
   "execution_count": 55,
   "id": "f6c35b54",
   "metadata": {},
   "outputs": [],
   "source": [
    "from sklearn.feature_extraction.text import TfidfVectorizer,CountVectorizer\n",
    "from sklearn.naive_bayes import MultinomialNB"
   ]
  },
  {
   "cell_type": "code",
   "execution_count": 56,
   "id": "980a4b6a",
   "metadata": {},
   "outputs": [],
   "source": [
    "from sklearn.metrics import accuracy_score,precision_score,f1_score,classification_report,confusion_matrix,r2_score,recall_score"
   ]
  },
  {
   "cell_type": "code",
   "execution_count": 60,
   "id": "0f45fc72",
   "metadata": {},
   "outputs": [
    {
     "name": "stdout",
     "output_type": "stream",
     "text": [
      "Accuracy Score: 0.7678125\n",
      "r2 score 0.5243939243113407\n"
     ]
    }
   ],
   "source": [
    "# Vectorize only on training data\n",
    "vectorizer = CountVectorizer()\n",
    "X_train_bow = vectorizer.fit_transform(X_train)   \n",
    "\n",
    "# Transform test data using the same vectorizer\n",
    "X_test_bow = vectorizer.transform(X_test)       \n",
    "# 3. Train the model\n",
    "nb_model = MultinomialNB()\n",
    "nb_model.fit(X_train_bow, y_train)\n",
    "\n",
    "# 4. Predict\n",
    "pred_nb = nb_model.predict(X_test_bow)\n",
    "\n",
    "print('Accuracy Score:', accuracy_score(y_test, pred_nb))\n",
    "print('r2 score',r2_score(y_test,pred_nb))\n",
    "\n",
    "\n",
    "\n"
   ]
  },
  {
   "cell_type": "code",
   "execution_count": 62,
   "id": "cb064cd9",
   "metadata": {},
   "outputs": [
    {
     "name": "stdout",
     "output_type": "stream",
     "text": [
      "Accuracy Score: 0.6609375\n",
      "r2 score 0.30704819369192526\n"
     ]
    }
   ],
   "source": [
    "# Vectorize only on training data\n",
    "vectorizer_Tfidf = TfidfVectorizer()\n",
    "X_train_bow = vectorizer_Tfidf.fit_transform(X_train)   \n",
    "\n",
    "# Transform test data using the same vectorizer_Tfidf\n",
    "X_test_Tfidf = vectorizer_Tfidf.transform(X_test)       \n",
    "# 3. Train the model\n",
    "nb2_model = MultinomialNB()\n",
    "nb2_model.fit(X_train_bow, y_train)\n",
    "\n",
    "# 4. Predict\n",
    "pred_nb = nb2_model.predict(X_test_Tfidf)\n",
    "\n",
    "print('Accuracy Score:', accuracy_score(y_test, pred_nb))\n",
    "print('r2 score',r2_score(y_test,pred_nb))\n",
    "\n"
   ]
  },
  {
   "cell_type": "code",
   "execution_count": 64,
   "id": "f381eefb",
   "metadata": {},
   "outputs": [],
   "source": [
    "from sklearn.linear_model import LogisticRegression"
   ]
  },
  {
   "cell_type": "code",
   "execution_count": 66,
   "id": "73a7beaa",
   "metadata": {},
   "outputs": [
    {
     "name": "stdout",
     "output_type": "stream",
     "text": [
      "Accuracy Score: 0.8615625\n",
      "r2 score 0.719282233620387\n"
     ]
    }
   ],
   "source": [
    "# Vectorize only on training data\n",
    "vectorizer_Tfidf = TfidfVectorizer()\n",
    "X_train_bow = vectorizer_Tfidf.fit_transform(X_train)   \n",
    "\n",
    "# Transform test data using the same vectorizer_Tfidf\n",
    "X_test_Tfidf = vectorizer_Tfidf.transform(X_test)       \n",
    "# 3. Train the model\n",
    "nb2_model = LogisticRegression(max_iter=1000)\n",
    "nb2_model.fit(X_train_bow, y_train)\n",
    "\n",
    "# 4. Predict\n",
    "pred_nb = nb2_model.predict(X_test_Tfidf)\n",
    "\n",
    "print('Accuracy Score:', accuracy_score(y_test, pred_nb))\n",
    "print('r2 score',r2_score(y_test,pred_nb))\n"
   ]
  }
 ],
 "metadata": {
  "kernelspec": {
   "display_name": "Base",
   "language": "python",
   "name": "python3"
  },
  "language_info": {
   "codemirror_mode": {
    "name": "ipython",
    "version": 3
   },
   "file_extension": ".py",
   "mimetype": "text/x-python",
   "name": "python",
   "nbconvert_exporter": "python",
   "pygments_lexer": "ipython3",
   "version": "3.12.0"
  }
 },
 "nbformat": 4,
 "nbformat_minor": 5
}
